{
 "cells": [
  {
   "cell_type": "code",
   "execution_count": null,
   "metadata": {},
   "outputs": [],
   "source": [
    "import numpy as np\n",
    "import matplotlib.pyplot as plt\n",
    "import matplotlib\n",
    "\n",
    "def lsv(path):\n",
    "    with open (path, \"r\") as myfile:\n",
    "        data=list(map(lambda full: float(full.replace('\\n', '')), myfile.readlines()))\n",
    "    return data"
   ]
  },
  {
   "cell_type": "code",
   "execution_count": null,
   "metadata": {},
   "outputs": [],
   "source": [
    "vals = np.array(lsv(\"acc_to_plot.txt\"))\n",
    "vals"
   ]
  },
  {
   "cell_type": "code",
   "execution_count": null,
   "metadata": {},
   "outputs": [],
   "source": [
    "len(vals)"
   ]
  },
  {
   "cell_type": "code",
   "execution_count": null,
   "metadata": {},
   "outputs": [],
   "source": [
    "def split_vals(vals, indices):\n",
    "    sz = len(vals)\n",
    "    indices = [0] + indices + [sz]\n",
    "    \n",
    "    to_ret = []\n",
    "    \n",
    "    for i in range(len(indices)-1):\n",
    "        beg, end = indices[i], indices[i+1]\n",
    "        to_ret.append(vals[beg:end])\n",
    "    \n",
    "    return to_ret"
   ]
  },
  {
   "cell_type": "code",
   "execution_count": null,
   "metadata": {},
   "outputs": [],
   "source": [
    "series = split_vals(vals, [32, 64])\n",
    "series\n",
    "\n",
    "series[0][:4] = series[2]\n",
    "series = series[:2]\n",
    "series"
   ]
  },
  {
   "cell_type": "code",
   "execution_count": null,
   "metadata": {},
   "outputs": [],
   "source": [
    "descriptions = ['DBOW', 'DM']\n",
    "\n",
    "# Change those\n",
    "units_margin = 0 # Distance between groups of bars\n",
    "plt.figure(figsize=(20, 5)) # (width, height)\n",
    "\n",
    "# Don't change those\n",
    "all_width = 1\n",
    "bar_width = all_width / (len(series) + units_margin) # Width of each bar\n",
    "\n",
    "series = np.array(series)\n",
    "print(series)\n",
    "\n",
    "for s, which in zip(series, np.arange(len(series))):\n",
    "    idx = np.arange(len(s)) + bar_width * which\n",
    "    \n",
    "    plt.bar(idx, s, width=bar_width, label=descriptions[which])\n",
    "\n",
    "matplotlib.rcParams.update({'font.size': 20})\n",
    "\n",
    "plt.xlabel('64 models')\n",
    "plt.ylabel('Accuracy')\n",
    "plt.ylim(bottom=0)\n",
    "plt.xticks([])\n",
    "plt.ylim(bottom=0.0, top=1.15)\n",
    "plt.yticks([0, 1])\n",
    "plt.legend()\n",
    "plt.text(2.68, 0.911, \"0.865\", rotation=60, fontsize=15)\n",
    "plt.savefig('svmaccuracies.png')\n",
    "plt.show()"
   ]
  },
  {
   "cell_type": "markdown",
   "metadata": {},
   "source": [
    "## Categories"
   ]
  },
  {
   "cell_type": "code",
   "execution_count": null,
   "metadata": {},
   "outputs": [],
   "source": [
    "data = np.array([0.66, 0.625, 0.715, 0.675, 0.64, 0.7, 0.715, 0.715, 0.76, 0.66, 0.65, 0.685, 0.665, 0.67, 0.74, 0.655, 0.555, 0.69])\n",
    "data = data.reshape(6,3)\n",
    "print(type(data))\n",
    "data"
   ]
  },
  {
   "cell_type": "code",
   "execution_count": null,
   "metadata": {},
   "outputs": [],
   "source": [
    "descriptions = ['Beauty', 'Video Games', 'Digital Music', 'Musical\\nInstruments', 'Amazon Instant\\nVideo', 'Grocery &\\nGourmet Food']\n",
    "labels = ['SVM + Unigrams Frequency', 'SVM + Unigrams Presence', 'SVM + Doc2Vec']\n",
    "\n",
    "matplotlib.rcParams.update({'font.size': 16})\n",
    "\n",
    "# Change those\n",
    "units_margin = 0.5 # Distance between groups of bars\n",
    "plt.figure(figsize=(20, 10)) # (width, height)\n",
    "\n",
    "# Don't change those\n",
    "all_width = 1\n",
    "bar_width = all_width / (len(data) + units_margin) # Width of each bar\n",
    "group_width = bar_width * len(data[0])\n",
    "\n",
    "for which in range(3):\n",
    "    idx = np.arange(len(data)) + bar_width * which - bar_width\n",
    "    \n",
    "    vals = data[:, which]\n",
    "    plt.bar(idx, vals, width=bar_width, label=labels[which])\n",
    "\n",
    "plt.xticks(np.arange(len(data)), descriptions)\n",
    "plt.ylim(bottom=0.0, top=1)\n",
    "plt.yticks([0, 1])\n",
    "plt.ylabel('Accuracy')\n",
    "plt.legend()\n",
    "\n",
    "plt.text(-0.18, 0.73, '0.66', rotation=67)\n",
    "plt.text(-0.05, 0.7, '0.625', rotation=68)\n",
    "plt.text(0.12, 0.8, '0.715', rotation=67)\n",
    "plt.text(0.8, 0.75, '0.675', rotation=60)\n",
    "plt.text(0.95, 0.7, '0.64', rotation=64)\n",
    "plt.text(1.12, 0.75, '0.7', rotation=60)\n",
    "plt.text(1.8, 0.79, '0.715', rotation=60)\n",
    "plt.text(1.95, 0.79, '0.715', rotation=60)\n",
    "plt.text(2.12, 0.82, '0.76', rotation=60)\n",
    "plt.text(2.8, 0.72, '0.66', rotation=60)\n",
    "plt.text(2.95, 0.71, '0.65', rotation=60)\n",
    "plt.text(3.12, 0.76, '0.685', rotation=60)\n",
    "plt.text(3.8, 0.74, '0.665', rotation=60)\n",
    "plt.text(3.95, 0.73, '0.67', rotation=60)\n",
    "plt.text(4.12, 0.8, '0.74', rotation=60)\n",
    "plt.text(4.8, 0.73, '0.655', rotation=60)\n",
    "plt.text(4.95, 0.63, '0.555', rotation=65)\n",
    "plt.text(5.12, 0.75, '0.69', rotation=60)\n",
    "\n",
    "plt.savefig('categories.png')"
   ]
  }
 ],
 "metadata": {
  "kernelspec": {
   "display_name": "Python 2",
   "language": "python",
   "name": "python2"
  },
  "language_info": {
   "codemirror_mode": {
    "name": "ipython",
    "version": 2
   },
   "file_extension": ".py",
   "mimetype": "text/x-python",
   "name": "python",
   "nbconvert_exporter": "python",
   "pygments_lexer": "ipython2",
   "version": "2.7.15+"
  }
 },
 "nbformat": 4,
 "nbformat_minor": 2
}
