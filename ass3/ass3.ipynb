{
 "cells": [
  {
   "cell_type": "code",
   "execution_count": 1,
   "metadata": {},
   "outputs": [],
   "source": [
    "import gensim"
   ]
  },
  {
   "cell_type": "code",
   "execution_count": 2,
   "metadata": {},
   "outputs": [],
   "source": [
    "model = gensim.models.KeyedVectors.load_word2vec_format('./GoogleNews-vectors-negative300.bin', binary=True)"
   ]
  },
  {
   "cell_type": "code",
   "execution_count": 3,
   "metadata": {},
   "outputs": [
    {
     "name": "stdout",
     "output_type": "stream",
     "text": [
      "[(u'drips', 0.6672437191009521), (u'constant_drip_drip', 0.5663571357727051), (u'dripping', 0.5400698184967041)]\n"
     ]
    }
   ],
   "source": [
    "print model.most_similar(positive=['drip'], negative=[], topn=3)"
   ]
  },
  {
   "cell_type": "code",
   "execution_count": 4,
   "metadata": {},
   "outputs": [
    {
     "name": "stdout",
     "output_type": "stream",
     "text": [
      "[(u'availabe', 0.7114526033401489), (u'readily_available', 0.6728429794311523), (u'avaliable', 0.6645508408546448)]\n"
     ]
    }
   ],
   "source": [
    "print model.most_similar(positive=['available'], negative=[], topn=3)"
   ]
  },
  {
   "cell_type": "code",
   "execution_count": 5,
   "metadata": {},
   "outputs": [
    {
     "name": "stdout",
     "output_type": "stream",
     "text": [
      "[(u'unable', 0.6783158779144287), (u'ableto', 0.6157487630844116), (u'trying', 0.5668548345565796)]\n"
     ]
    }
   ],
   "source": [
    "print model.most_similar(positive=['able'], negative=[], topn=3)"
   ]
  },
  {
   "cell_type": "code",
   "execution_count": 6,
   "metadata": {},
   "outputs": [
    {
     "name": "stdout",
     "output_type": "stream",
     "text": [
      "[(u'beside', 0.5269509553909302), (u'rear', 0.4935157299041748), (u'outside', 0.4750765264034271)]\n"
     ]
    }
   ],
   "source": [
    "print model.most_similar(positive=['front'], negative=[], topn=3)"
   ]
  },
  {
   "cell_type": "code",
   "execution_count": 7,
   "metadata": {},
   "outputs": [
    {
     "name": "stdout",
     "output_type": "stream",
     "text": [
      "[(u'Head_Coach', 0.8020526170730591), (u'Coach', 0.7668052911758423), (u'coaching', 0.7636448740959167)]\n"
     ]
    }
   ],
   "source": [
    "print model.most_similar(positive=['coach'], negative=[], topn=3)"
   ]
  },
  {
   "cell_type": "code",
   "execution_count": 8,
   "metadata": {},
   "outputs": [
    {
     "name": "stdout",
     "output_type": "stream",
     "text": [
      "[(u'sitting', 0.7336179614067078), (u'sat', 0.7059056758880615), (u'Sit', 0.6376020312309265)]\n"
     ]
    }
   ],
   "source": [
    "print model.most_similar(positive=['sit'], negative=[], topn=3)"
   ]
  },
  {
   "cell_type": "code",
   "execution_count": 9,
   "metadata": {},
   "outputs": [
    {
     "name": "stdout",
     "output_type": "stream",
     "text": [
      "[(u'opened', 0.596660315990448), (u'closed', 0.5819659233093262), (u'opens', 0.5362014770507812)]\n"
     ]
    }
   ],
   "source": [
    "print model.most_similar(positive=['open'], negative=[], topn=3)"
   ]
  },
  {
   "cell_type": "code",
   "execution_count": 11,
   "metadata": {},
   "outputs": [
    {
     "name": "stdout",
     "output_type": "stream",
     "text": [
      "[(u'zucchini', 0.726477861404419), (u'cauliflower', 0.6968439221382141), (u'eggplants', 0.6966414451599121)]\n"
     ]
    }
   ],
   "source": [
    "print model.most_similar(positive=['eggplant'], negative=[], topn=3)"
   ]
  },
  {
   "cell_type": "code",
   "execution_count": 12,
   "metadata": {},
   "outputs": [
    {
     "name": "stdout",
     "output_type": "stream",
     "text": [
      "0.6258184\n"
     ]
    },
    {
     "name": "stderr",
     "output_type": "stream",
     "text": [
      "/usr/local/lib/python2.7/dist-packages/ipykernel_launcher.py:1: DeprecationWarning: Call to deprecated `wv` (Attribute will be removed in 4.0.0, use self instead).\n",
      "  \"\"\"Entry point for launching an IPython kernel.\n"
     ]
    }
   ],
   "source": [
    "print model.wv.n_similarity(['eggplant'],['aubergine'])"
   ]
  },
  {
   "cell_type": "code",
   "execution_count": null,
   "metadata": {},
   "outputs": [],
   "source": []
  }
 ],
 "metadata": {
  "kernelspec": {
   "display_name": "Python 2",
   "language": "python",
   "name": "python2"
  },
  "language_info": {
   "codemirror_mode": {
    "name": "ipython",
    "version": 2
   },
   "file_extension": ".py",
   "mimetype": "text/x-python",
   "name": "python",
   "nbconvert_exporter": "python",
   "pygments_lexer": "ipython2",
   "version": "2.7.15+"
  }
 },
 "nbformat": 4,
 "nbformat_minor": 2
}
